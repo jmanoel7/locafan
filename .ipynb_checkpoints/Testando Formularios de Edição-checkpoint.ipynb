{
 "metadata": {
  "name": "",
  "signature": "sha256:c120daa0bf070e08519c3c48cdca9ce95f1713d596fddb454daf75c00ef3b4c0"
 },
 "nbformat": 3,
 "nbformat_minor": 0,
 "worksheets": [
  {
   "cells": [
    {
     "cell_type": "code",
     "collapsed": false,
     "input": [
      "from home.models import Clientes"
     ],
     "language": "python",
     "metadata": {},
     "outputs": [],
     "prompt_number": 1
    },
    {
     "cell_type": "code",
     "collapsed": false,
     "input": [
      "from django.shortcuts import get_object_or_404"
     ],
     "language": "python",
     "metadata": {},
     "outputs": [],
     "prompt_number": 2
    },
    {
     "cell_type": "code",
     "collapsed": false,
     "input": [
      "cliente=get_object_or_404(Clientes, nome='Jo\u00e3o Manoel Leite Ribeiro Nogueira')"
     ],
     "language": "python",
     "metadata": {},
     "outputs": [],
     "prompt_number": 3
    },
    {
     "cell_type": "code",
     "collapsed": false,
     "input": [
      "from datetime import date"
     ],
     "language": "python",
     "metadata": {},
     "outputs": [],
     "prompt_number": 4
    },
    {
     "cell_type": "code",
     "collapsed": false,
     "input": [
      "from clientes.forms import ClientesCadastrarForm, ClientesEditarForm"
     ],
     "language": "python",
     "metadata": {},
     "outputs": [],
     "prompt_number": 5
    },
    {
     "cell_type": "code",
     "collapsed": false,
     "input": [
      "form = ClientesEditarForm(instance=cliente)"
     ],
     "language": "python",
     "metadata": {},
     "outputs": [],
     "prompt_number": 6
    },
    {
     "cell_type": "code",
     "collapsed": false,
     "input": [
      "print form.as_p.im_self.data.get"
     ],
     "language": "python",
     "metadata": {},
     "outputs": [
      {
       "output_type": "stream",
       "stream": "stdout",
       "text": [
        "<built-in method get of dict object at 0x27e1540>\n"
       ]
      }
     ],
     "prompt_number": 12
    },
    {
     "cell_type": "code",
     "collapsed": false,
     "input": [
      "from django.shortcuts import render\n",
      "from django.http import HttpResponse, HttpResponseRedirect\n",
      "from django.core.urlresolvers import reverse"
     ],
     "language": "python",
     "metadata": {},
     "outputs": [],
     "prompt_number": 13
    },
    {
     "cell_type": "code",
     "collapsed": false,
     "input": [
      "print cliente.dt_nascimento"
     ],
     "language": "python",
     "metadata": {},
     "outputs": [
      {
       "output_type": "stream",
       "stream": "stdout",
       "text": [
        "1980-06-22\n"
       ]
      }
     ],
     "prompt_number": 14
    },
    {
     "cell_type": "code",
     "collapsed": false,
     "input": [
      "print str(cliente.dt_nascimento)"
     ],
     "language": "python",
     "metadata": {},
     "outputs": [
      {
       "output_type": "stream",
       "stream": "stdout",
       "text": [
        "1980-06-22\n"
       ]
      }
     ],
     "prompt_number": 15
    },
    {
     "cell_type": "code",
     "collapsed": false,
     "input": [
      "dt_nascimento=str(cliente.dt_nascimento)"
     ],
     "language": "python",
     "metadata": {},
     "outputs": [],
     "prompt_number": 22
    },
    {
     "cell_type": "code",
     "collapsed": false,
     "input": [
      "dt_nascimento=dt_nascimento.split('-')"
     ],
     "language": "python",
     "metadata": {},
     "outputs": [],
     "prompt_number": 24
    },
    {
     "cell_type": "code",
     "collapsed": false,
     "input": [
      "print dt_nascimento"
     ],
     "language": "python",
     "metadata": {},
     "outputs": [
      {
       "output_type": "stream",
       "stream": "stdout",
       "text": [
        "['1980', '06', '22']\n"
       ]
      }
     ],
     "prompt_number": 18
    },
    {
     "cell_type": "code",
     "collapsed": false,
     "input": [
      "dt_nascimento=dt_nascimento[2]+'/'+dt_nascimento[1]+'/'+dt_nascimento[0]"
     ],
     "language": "python",
     "metadata": {},
     "outputs": [],
     "prompt_number": 26
    },
    {
     "cell_type": "code",
     "collapsed": false,
     "input": [
      "print dt_nascimento"
     ],
     "language": "python",
     "metadata": {},
     "outputs": [
      {
       "output_type": "stream",
       "stream": "stdout",
       "text": [
        "22/06/1980\n"
       ]
      }
     ],
     "prompt_number": 27
    },
    {
     "cell_type": "code",
     "collapsed": false,
     "input": [
      "form = ClientesEditarForm({'dt_nascimento': dt_nascimento}, instance=cliente)"
     ],
     "language": "python",
     "metadata": {},
     "outputs": [],
     "prompt_number": 28
    },
    {
     "cell_type": "code",
     "collapsed": false,
     "input": [
      "print form"
     ],
     "language": "python",
     "metadata": {},
     "outputs": [
      {
       "output_type": "stream",
       "stream": "stdout",
       "text": [
        "<tr><th><label for=\"id_nome\">Nome:</label></th><td><ul class=\"errorlist\"><li>Este campo \u00e9 obrigat\u00f3rio.</li></ul><input name=\"nome\" maxlength=\"100\" placeholder=\"Digite o nome\" type=\"text\" class=\"input_nome\" id=\"id_nome\" /></td></tr>\n",
        "<tr><th><label for=\"id_dt_nascimento\">Data de Nascimento:</label></th><td><input name=\"dt_nascimento\" maxlength=\"10\" placeholder=\"__/__/____\" type=\"text\" class=\"input_dt_nascimento\" value=\"22/06/1980\" id=\"id_dt_nascimento\" /></td></tr>\n",
        "<tr><th><label for=\"id_rg\">RG:</label></th><td><ul class=\"errorlist\"><li>Este campo \u00e9 obrigat\u00f3rio.</li></ul><input name=\"rg\" maxlength=\"50\" placeholder=\"Digite o RG\" type=\"text\" class=\"input_rg\" id=\"id_rg\" /></td></tr>\n",
        "<tr><th><label for=\"id_cpf\">CPF:</label></th><td><ul class=\"errorlist\"><li>Este campo \u00e9 obrigat\u00f3rio.</li></ul><input name=\"cpf\" maxlength=\"14\" placeholder=\"___.___.___-__\" type=\"text\" class=\"input_cpf\" id=\"id_cpf\" /></td></tr>\n",
        "<tr><th><label for=\"id_cep\">CEP:</label></th><td><ul class=\"errorlist\"><li>Este campo \u00e9 obrigat\u00f3rio.</li></ul><input name=\"cep\" maxlength=\"9\" type=\"text\" title=\"Ao inserir o CEP, os dados do endere\u00e7o ser\u00e3o preenchidos automaticamente.\" placeholder=\"_____-___\" class=\"zip-field zip-field input_cep\" id=\"id_cep\" /><script type=\"text/javascript\">var address = {\"city\": \"id_cidade\", \"state\": \"id_uf\", \"street\": \"id_end\", \"district\": \"id_bairro\"};</script></td></tr>\n",
        "<tr><th><label for=\"id_end\">Endere\u00e7o:</label></th><td><ul class=\"errorlist\"><li>Este campo \u00e9 obrigat\u00f3rio.</li></ul><input name=\"end\" maxlength=\"100\" placeholder=\"Digite o endere\u00e7o\" type=\"text\" class=\"input_end\" id=\"id_end\" /></td></tr>\n",
        "<tr><th><label for=\"id_end_comp\">Complemento:</label></th><td><input name=\"end_comp\" maxlength=\"100\" placeholder=\"Digite o complemento\" type=\"text\" class=\"input_end_comp\" id=\"id_end_comp\" /></td></tr>\n",
        "<tr><th><label for=\"id_bairro\">Bairro:</label></th><td><ul class=\"errorlist\"><li>Este campo \u00e9 obrigat\u00f3rio.</li></ul><input name=\"bairro\" maxlength=\"100\" placeholder=\"Digite o bairro\" type=\"text\" class=\"input_bairro\" id=\"id_bairro\" /></td></tr>\n",
        "<tr><th><label for=\"id_cidade\">Cidade:</label></th><td><ul class=\"errorlist\"><li>Este campo \u00e9 obrigat\u00f3rio.</li></ul><input name=\"cidade\" maxlength=\"100\" placeholder=\"Digite a cidade\" type=\"text\" class=\"input_cidade\" id=\"id_cidade\" /></td></tr>\n",
        "<tr><th><label for=\"id_uf\">Estado:</label></th><td><ul class=\"errorlist\"><li>Este campo \u00e9 obrigat\u00f3rio.</li></ul><select id=\"id_uf\" class=\"input_uf\" name=\"uf\">\n",
        "<option value=\"AC\">Acre</option>\n",
        "<option value=\"AL\">Alagoas</option>\n",
        "<option value=\"AP\">Amap\u00e1</option>\n",
        "<option value=\"AM\">Amazonas</option>\n",
        "<option value=\"BA\">Bahia</option>\n",
        "<option value=\"CE\">Cear\u00e1</option>\n",
        "<option value=\"DF\">Distrito Federal</option>\n",
        "<option value=\"ES\">Esp\u00edrito Santo</option>\n",
        "<option value=\"GO\">Goi\u00e1s</option>\n",
        "<option value=\"MA\">Maranh\u00e3o</option>\n",
        "<option value=\"MT\">Mato Grosso</option>\n",
        "<option value=\"MS\">Mato Grosso do Sul</option>\n",
        "<option value=\"MG\">Minas Gerais</option>\n",
        "<option value=\"PA\">Par\u00e1</option>\n",
        "<option value=\"PB\">Para\u00edba</option>\n",
        "<option value=\"PR\">Paran\u00e1</option>\n",
        "<option value=\"PE\">Pernambuco</option>\n",
        "<option value=\"PI\">Piau\u00ed</option>\n",
        "<option value=\"RJ\">Rio de Janeiro</option>\n",
        "<option value=\"RN\">Rio Grande do Norte</option>\n",
        "<option value=\"RS\">Rio Grande do Sul</option>\n",
        "<option value=\"RO\">Rond\u00f4nia</option>\n",
        "<option value=\"RR\">Roraima</option>\n",
        "<option value=\"SC\">Santa Catarina</option>\n",
        "<option value=\"SP\">S\u00e3o Paulo</option>\n",
        "<option value=\"SE\">Sergipe</option>\n",
        "<option value=\"TO\">Tocantins</option>\n",
        "</select></td></tr>\n",
        "<tr><th><label for=\"id_tel_fixo\">Telefone Fixo:</label></th><td><input name=\"tel_fixo\" maxlength=\"14\" placeholder=\"(__) ____-____\" type=\"text\" class=\"input_tel_fixo\" id=\"id_tel_fixo\" /></td></tr>\n",
        "<tr><th><label for=\"id_tel_cel\">Telefone Celular:</label></th><td><ul class=\"errorlist\"><li>Este campo \u00e9 obrigat\u00f3rio.</li></ul><input name=\"tel_cel\" maxlength=\"14\" placeholder=\"(__) ____-____\" type=\"text\" class=\"input_tel_cel\" id=\"id_tel_cel\" /></td></tr>\n",
        "<tr><th><label for=\"id_tel_trab\">Telefone do Trabalho:</label></th><td><input name=\"tel_trab\" maxlength=\"14\" placeholder=\"(__) ____-____\" type=\"text\" class=\"input_tel_trab\" id=\"id_tel_trab\" /></td></tr>\n",
        "<tr><th><label for=\"id_email\">Email:</label></th><td><input name=\"email\" maxlength=\"100\" placeholder=\"Digite o email\" type=\"text\" class=\"input_email\" id=\"id_email\" /></td></tr>\n"
       ]
      }
     ],
     "prompt_number": 33
    },
    {
     "cell_type": "code",
     "collapsed": false,
     "input": [],
     "language": "python",
     "metadata": {},
     "outputs": []
    }
   ],
   "metadata": {}
  }
 ]
}